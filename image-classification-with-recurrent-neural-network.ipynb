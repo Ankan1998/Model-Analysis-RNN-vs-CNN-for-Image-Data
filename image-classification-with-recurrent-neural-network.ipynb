{
 "cells": [
  {
   "cell_type": "code",
   "execution_count": 1,
   "metadata": {
    "execution": {
     "iopub.execute_input": "2020-08-28T16:53:39.923009Z",
     "iopub.status.busy": "2020-08-28T16:53:39.922273Z",
     "iopub.status.idle": "2020-08-28T16:53:46.083625Z",
     "shell.execute_reply": "2020-08-28T16:53:46.082481Z"
    },
    "id": "ECGUV6cpWbcy",
    "papermill": {
     "duration": 6.173613,
     "end_time": "2020-08-28T16:53:46.083757",
     "exception": false,
     "start_time": "2020-08-28T16:53:39.910144",
     "status": "completed"
    },
    "tags": []
   },
   "outputs": [],
   "source": [
    "import tensorflow as tf\n",
    "import numpy as np\n",
    "import matplotlib.pyplot as plt"
   ]
  },
  {
   "cell_type": "code",
   "execution_count": 2,
   "metadata": {
    "execution": {
     "iopub.execute_input": "2020-08-28T16:53:46.101822Z",
     "iopub.status.busy": "2020-08-28T16:53:46.100920Z",
     "iopub.status.idle": "2020-08-28T16:53:46.104381Z",
     "shell.execute_reply": "2020-08-28T16:53:46.104900Z"
    },
    "papermill": {
     "duration": 0.014463,
     "end_time": "2020-08-28T16:53:46.105014",
     "exception": false,
     "start_time": "2020-08-28T16:53:46.090551",
     "status": "completed"
    },
    "tags": []
   },
   "outputs": [
    {
     "name": "stdout",
     "output_type": "stream",
     "text": [
      "2.3.0\n"
     ]
    }
   ],
   "source": [
    "print(tf.__version__)"
   ]
  },
  {
   "cell_type": "code",
   "execution_count": 3,
   "metadata": {
    "execution": {
     "iopub.execute_input": "2020-08-28T16:53:46.122470Z",
     "iopub.status.busy": "2020-08-28T16:53:46.121907Z",
     "iopub.status.idle": "2020-08-28T16:53:46.125853Z",
     "shell.execute_reply": "2020-08-28T16:53:46.125260Z"
    },
    "papermill": {
     "duration": 0.013962,
     "end_time": "2020-08-28T16:53:46.125964",
     "exception": false,
     "start_time": "2020-08-28T16:53:46.112002",
     "status": "completed"
    },
    "tags": []
   },
   "outputs": [],
   "source": [
    "tf.random.set_seed(99)"
   ]
  },
  {
   "cell_type": "markdown",
   "execution_count": null,
   "metadata": {
    "id": "3cSgIGYHWyT7",
    "papermill": {
     "duration": 0.008085,
     "end_time": "2020-08-28T16:53:46.140815",
     "exception": false,
     "start_time": "2020-08-28T16:53:46.132730",
     "status": "completed"
    },
    "tags": []
   },
   "source": [
    "## This Fashion MNIST dataset included in Tensorflow Library"
   ]
  },
  {
   "cell_type": "code",
   "execution_count": 4,
   "metadata": {
    "execution": {
     "iopub.execute_input": "2020-08-28T16:53:46.158157Z",
     "iopub.status.busy": "2020-08-28T16:53:46.157575Z",
     "iopub.status.idle": "2020-08-28T16:53:46.161103Z",
     "shell.execute_reply": "2020-08-28T16:53:46.161544Z"
    },
    "id": "mlEZ-ZoOWx4G",
    "papermill": {
     "duration": 0.014179,
     "end_time": "2020-08-28T16:53:46.161673",
     "exception": false,
     "start_time": "2020-08-28T16:53:46.147494",
     "status": "completed"
    },
    "tags": []
   },
   "outputs": [],
   "source": [
    "fas_mnist=tf.keras.datasets.fashion_mnist"
   ]
  },
  {
   "cell_type": "code",
   "execution_count": 5,
   "metadata": {
    "execution": {
     "iopub.execute_input": "2020-08-28T16:53:46.179633Z",
     "iopub.status.busy": "2020-08-28T16:53:46.179031Z",
     "iopub.status.idle": "2020-08-28T16:53:47.125853Z",
     "shell.execute_reply": "2020-08-28T16:53:47.124968Z"
    },
    "id": "4b75oGlNXmrG",
    "papermill": {
     "duration": 0.957331,
     "end_time": "2020-08-28T16:53:47.125974",
     "exception": false,
     "start_time": "2020-08-28T16:53:46.168643",
     "status": "completed"
    },
    "tags": []
   },
   "outputs": [
    {
     "name": "stdout",
     "output_type": "stream",
     "text": [
      "Downloading data from https://storage.googleapis.com/tensorflow/tf-keras-datasets/train-labels-idx1-ubyte.gz\n",
      "32768/29515 [=================================] - 0s 0us/step\n",
      "Downloading data from https://storage.googleapis.com/tensorflow/tf-keras-datasets/train-images-idx3-ubyte.gz\n",
      "26427392/26421880 [==============================] - 0s 0us/step\n",
      "Downloading data from https://storage.googleapis.com/tensorflow/tf-keras-datasets/t10k-labels-idx1-ubyte.gz\n",
      "8192/5148 [===============================================] - 0s 0us/step\n",
      "Downloading data from https://storage.googleapis.com/tensorflow/tf-keras-datasets/t10k-images-idx3-ubyte.gz\n",
      "4423680/4422102 [==============================] - 0s 0us/step\n"
     ]
    }
   ],
   "source": [
    "(train_images,train_labels),(test_images,test_labels)=fas_mnist.load_data()"
   ]
  },
  {
   "cell_type": "code",
   "execution_count": 6,
   "metadata": {
    "execution": {
     "iopub.execute_input": "2020-08-28T16:53:47.149027Z",
     "iopub.status.busy": "2020-08-28T16:53:47.147961Z",
     "iopub.status.idle": "2020-08-28T16:53:47.287463Z",
     "shell.execute_reply": "2020-08-28T16:53:47.286926Z"
    },
    "id": "84C6YNJhqJ1W",
    "papermill": {
     "duration": 0.15353,
     "end_time": "2020-08-28T16:53:47.287614",
     "exception": false,
     "start_time": "2020-08-28T16:53:47.134084",
     "status": "completed"
    },
    "tags": []
   },
   "outputs": [],
   "source": [
    "train_images=train_images.reshape(60000, 28, 28)\n",
    "train_images=train_images / 255.0 #Standardising\n",
    "test_images = test_images.reshape(10000, 28, 28)\n",
    "test_images=test_images/255.0 #Standardising"
   ]
  },
  {
   "cell_type": "code",
   "execution_count": 7,
   "metadata": {
    "execution": {
     "iopub.execute_input": "2020-08-28T16:53:47.310621Z",
     "iopub.status.busy": "2020-08-28T16:53:47.309594Z",
     "iopub.status.idle": "2020-08-28T16:53:47.314177Z",
     "shell.execute_reply": "2020-08-28T16:53:47.313662Z"
    },
    "id": "_woeO9RTYabj",
    "outputId": "193fdd9f-27e4-4b12-9b70-4c78a5a7a41e",
    "papermill": {
     "duration": 0.017953,
     "end_time": "2020-08-28T16:53:47.314275",
     "exception": false,
     "start_time": "2020-08-28T16:53:47.296322",
     "status": "completed"
    },
    "tags": []
   },
   "outputs": [
    {
     "data": {
      "text/plain": [
       "(60000, 28, 28)"
      ]
     },
     "execution_count": 7,
     "metadata": {},
     "output_type": "execute_result"
    }
   ],
   "source": [
    "train_images.shape"
   ]
  },
  {
   "cell_type": "code",
   "execution_count": 8,
   "metadata": {
    "execution": {
     "iopub.execute_input": "2020-08-28T16:53:47.335684Z",
     "iopub.status.busy": "2020-08-28T16:53:47.334945Z",
     "iopub.status.idle": "2020-08-28T16:53:47.338434Z",
     "shell.execute_reply": "2020-08-28T16:53:47.338914Z"
    },
    "id": "OJJNYzAGb7ie",
    "outputId": "d95630d3-c68f-4240-c735-f07219b25796",
    "papermill": {
     "duration": 0.01684,
     "end_time": "2020-08-28T16:53:47.339022",
     "exception": false,
     "start_time": "2020-08-28T16:53:47.322182",
     "status": "completed"
    },
    "tags": []
   },
   "outputs": [
    {
     "data": {
      "text/plain": [
       "(10000, 28, 28)"
      ]
     },
     "execution_count": 8,
     "metadata": {},
     "output_type": "execute_result"
    }
   ],
   "source": [
    "test_images.shape"
   ]
  },
  {
   "cell_type": "code",
   "execution_count": 9,
   "metadata": {
    "execution": {
     "iopub.execute_input": "2020-08-28T16:53:47.361595Z",
     "iopub.status.busy": "2020-08-28T16:53:47.360997Z",
     "iopub.status.idle": "2020-08-28T16:53:50.674942Z",
     "shell.execute_reply": "2020-08-28T16:53:50.673961Z"
    },
    "id": "qDBZD6WtaJBg",
    "papermill": {
     "duration": 3.328066,
     "end_time": "2020-08-28T16:53:50.675072",
     "exception": false,
     "start_time": "2020-08-28T16:53:47.347006",
     "status": "completed"
    },
    "tags": []
   },
   "outputs": [],
   "source": [
    "# The concept is simple, we take each HxW matrix of images --> Flatten it like sequence of Multi-dimensional time-series and feed to LSTM\n",
    "# HxW changes to TxD \n",
    "# In images H--> height, W--> width, similiarly T-->Timestamp(equals H), D-->Feature(equals W)\n",
    "model = tf.keras.Sequential([\n",
    "  tf.keras.Input(shape=(28,28)),\n",
    "  tf.keras.layers.LSTM(128),\n",
    "  tf.keras.layers.Dense(128, activation='relu',input_shape=(28, 28, )),\n",
    "  tf.keras.layers.Dropout(0.2,input_shape=(128,)),\n",
    "  tf.keras.layers.Dense(10, activation='softmax')\n",
    "])\n",
    "\n"
   ]
  },
  {
   "cell_type": "code",
   "execution_count": 10,
   "metadata": {
    "execution": {
     "iopub.execute_input": "2020-08-28T16:53:50.701599Z",
     "iopub.status.busy": "2020-08-28T16:53:50.699932Z",
     "iopub.status.idle": "2020-08-28T16:53:50.704893Z",
     "shell.execute_reply": "2020-08-28T16:53:50.704348Z"
    },
    "id": "Sq48IrtVbIJ7",
    "outputId": "fc8b7265-bff5-4dde-a2cd-de05a4c53063",
    "papermill": {
     "duration": 0.021316,
     "end_time": "2020-08-28T16:53:50.704992",
     "exception": false,
     "start_time": "2020-08-28T16:53:50.683676",
     "status": "completed"
    },
    "tags": []
   },
   "outputs": [
    {
     "name": "stdout",
     "output_type": "stream",
     "text": [
      "Model: \"sequential\"\n",
      "_________________________________________________________________\n",
      "Layer (type)                 Output Shape              Param #   \n",
      "=================================================================\n",
      "lstm (LSTM)                  (None, 128)               80384     \n",
      "_________________________________________________________________\n",
      "dense (Dense)                (None, 128)               16512     \n",
      "_________________________________________________________________\n",
      "dropout (Dropout)            (None, 128)               0         \n",
      "_________________________________________________________________\n",
      "dense_1 (Dense)              (None, 10)                1290      \n",
      "=================================================================\n",
      "Total params: 98,186\n",
      "Trainable params: 98,186\n",
      "Non-trainable params: 0\n",
      "_________________________________________________________________\n"
     ]
    }
   ],
   "source": [
    "model.summary()"
   ]
  },
  {
   "cell_type": "code",
   "execution_count": 11,
   "metadata": {
    "execution": {
     "iopub.execute_input": "2020-08-28T16:53:50.732372Z",
     "iopub.status.busy": "2020-08-28T16:53:50.729469Z",
     "iopub.status.idle": "2020-08-28T16:53:50.738766Z",
     "shell.execute_reply": "2020-08-28T16:53:50.737889Z"
    },
    "id": "UytcBSRwbEZl",
    "papermill": {
     "duration": 0.025773,
     "end_time": "2020-08-28T16:53:50.738862",
     "exception": false,
     "start_time": "2020-08-28T16:53:50.713089",
     "status": "completed"
    },
    "tags": []
   },
   "outputs": [],
   "source": [
    "model.compile(optimizer='adam', loss='sparse_categorical_crossentropy', metrics=['accuracy'])"
   ]
  },
  {
   "cell_type": "code",
   "execution_count": 12,
   "metadata": {
    "execution": {
     "iopub.execute_input": "2020-08-28T16:53:50.760008Z",
     "iopub.status.busy": "2020-08-28T16:53:50.759385Z",
     "iopub.status.idle": "2020-08-28T16:53:50.763221Z",
     "shell.execute_reply": "2020-08-28T16:53:50.762754Z"
    },
    "papermill": {
     "duration": 0.016092,
     "end_time": "2020-08-28T16:53:50.763313",
     "exception": false,
     "start_time": "2020-08-28T16:53:50.747221",
     "status": "completed"
    },
    "tags": []
   },
   "outputs": [],
   "source": [
    "def scheduler(epoch, lr):\n",
    "      if epoch < 8:\n",
    "        return lr\n",
    "      else:\n",
    "        return lr * tf.math.exp(-0.1)"
   ]
  },
  {
   "cell_type": "code",
   "execution_count": 13,
   "metadata": {
    "execution": {
     "iopub.execute_input": "2020-08-28T16:53:50.785067Z",
     "iopub.status.busy": "2020-08-28T16:53:50.784389Z",
     "iopub.status.idle": "2020-08-28T16:53:50.788200Z",
     "shell.execute_reply": "2020-08-28T16:53:50.788718Z"
    },
    "papermill": {
     "duration": 0.016791,
     "end_time": "2020-08-28T16:53:50.788871",
     "exception": false,
     "start_time": "2020-08-28T16:53:50.772080",
     "status": "completed"
    },
    "tags": []
   },
   "outputs": [],
   "source": [
    "my_callbacks = [\n",
    "    tf.keras.callbacks.EarlyStopping(monitor=\"val_loss\",patience=2),\n",
    "    tf.keras.callbacks.LearningRateScheduler(scheduler)\n",
    "]"
   ]
  },
  {
   "cell_type": "code",
   "execution_count": 14,
   "metadata": {
    "execution": {
     "iopub.execute_input": "2020-08-28T16:53:50.809491Z",
     "iopub.status.busy": "2020-08-28T16:53:50.808939Z",
     "iopub.status.idle": "2020-08-28T16:55:47.677540Z",
     "shell.execute_reply": "2020-08-28T16:55:47.676856Z"
    },
    "id": "Hjw6yBa6bfc6",
    "outputId": "8b256ba2-d813-4712-91b2-7573d989b666",
    "papermill": {
     "duration": 116.880576,
     "end_time": "2020-08-28T16:55:47.677681",
     "exception": false,
     "start_time": "2020-08-28T16:53:50.797105",
     "status": "completed"
    },
    "tags": []
   },
   "outputs": [
    {
     "name": "stdout",
     "output_type": "stream",
     "text": [
      "Epoch 1/20\n",
      "1875/1875 [==============================] - 8s 4ms/step - loss: 0.5959 - accuracy: 0.7778 - val_loss: 0.4687 - val_accuracy: 0.8290\n",
      "Epoch 2/20\n",
      "1875/1875 [==============================] - 8s 4ms/step - loss: 0.4123 - accuracy: 0.8483 - val_loss: 0.3896 - val_accuracy: 0.8554\n",
      "Epoch 3/20\n",
      "1875/1875 [==============================] - 7s 4ms/step - loss: 0.3626 - accuracy: 0.8663 - val_loss: 0.3688 - val_accuracy: 0.8617\n",
      "Epoch 4/20\n",
      "1875/1875 [==============================] - 7s 4ms/step - loss: 0.3338 - accuracy: 0.8748 - val_loss: 0.3535 - val_accuracy: 0.8701\n",
      "Epoch 5/20\n",
      "1875/1875 [==============================] - 7s 4ms/step - loss: 0.3100 - accuracy: 0.8833 - val_loss: 0.3281 - val_accuracy: 0.8818\n",
      "Epoch 6/20\n",
      "1875/1875 [==============================] - 7s 4ms/step - loss: 0.2943 - accuracy: 0.8911 - val_loss: 0.3178 - val_accuracy: 0.8811\n",
      "Epoch 7/20\n",
      "1875/1875 [==============================] - 7s 4ms/step - loss: 0.2782 - accuracy: 0.8955 - val_loss: 0.3157 - val_accuracy: 0.8855\n",
      "Epoch 8/20\n",
      "1875/1875 [==============================] - 7s 4ms/step - loss: 0.2640 - accuracy: 0.9003 - val_loss: 0.3119 - val_accuracy: 0.8830\n",
      "Epoch 9/20\n",
      "1875/1875 [==============================] - 8s 4ms/step - loss: 0.2470 - accuracy: 0.9071 - val_loss: 0.2954 - val_accuracy: 0.8916\n",
      "Epoch 10/20\n",
      "1875/1875 [==============================] - 7s 4ms/step - loss: 0.2325 - accuracy: 0.9126 - val_loss: 0.2999 - val_accuracy: 0.8918\n",
      "Epoch 11/20\n",
      "1875/1875 [==============================] - 7s 4ms/step - loss: 0.2211 - accuracy: 0.9162 - val_loss: 0.2927 - val_accuracy: 0.8963\n",
      "Epoch 12/20\n",
      "1875/1875 [==============================] - 7s 4ms/step - loss: 0.2071 - accuracy: 0.9216 - val_loss: 0.2949 - val_accuracy: 0.8957\n",
      "Epoch 13/20\n",
      "1875/1875 [==============================] - 7s 4ms/step - loss: 0.1954 - accuracy: 0.9264 - val_loss: 0.2826 - val_accuracy: 0.9017\n",
      "Epoch 14/20\n",
      "1875/1875 [==============================] - 7s 4ms/step - loss: 0.1818 - accuracy: 0.9316 - val_loss: 0.2992 - val_accuracy: 0.8961\n",
      "Epoch 15/20\n",
      "1875/1875 [==============================] - 7s 4ms/step - loss: 0.1721 - accuracy: 0.9355 - val_loss: 0.2976 - val_accuracy: 0.9026\n"
     ]
    }
   ],
   "source": [
    "trainer=model.fit(train_images, train_labels,validation_data=(test_images,test_labels), epochs=20,callbacks=my_callbacks)"
   ]
  },
  {
   "cell_type": "code",
   "execution_count": 15,
   "metadata": {
    "execution": {
     "iopub.execute_input": "2020-08-28T16:55:47.913968Z",
     "iopub.status.busy": "2020-08-28T16:55:47.913296Z",
     "iopub.status.idle": "2020-08-28T16:55:48.145334Z",
     "shell.execute_reply": "2020-08-28T16:55:48.145862Z"
    },
    "papermill": {
     "duration": 0.353147,
     "end_time": "2020-08-28T16:55:48.146017",
     "exception": false,
     "start_time": "2020-08-28T16:55:47.792870",
     "status": "completed"
    },
    "tags": []
   },
   "outputs": [
    {
     "data": {
      "text/plain": [
       "<matplotlib.legend.Legend at 0x7f89c01e6f90>"
      ]
     },
     "execution_count": 15,
     "metadata": {},
     "output_type": "execute_result"
    },
    {
     "data": {
      "image/png": "[encoded data removed]",
      "text/plain": [
       "<Figure size 432x288 with 1 Axes>"
      ]
     },
     "metadata": {
      "needs_background": "light"
     },
     "output_type": "display_data"
    }
   ],
   "source": [
    "# Plot loss per iteration\n",
    "plt.plot(trainer.history['loss'], label='loss')\n",
    "plt.plot(trainer.history['val_loss'], label='val_loss')\n",
    "plt.legend()"
   ]
  },
  {
   "cell_type": "code",
   "execution_count": 16,
   "metadata": {
    "execution": {
     "iopub.execute_input": "2020-08-28T16:55:48.389870Z",
     "iopub.status.busy": "2020-08-28T16:55:48.388750Z",
     "iopub.status.idle": "2020-08-28T16:55:48.559208Z",
     "shell.execute_reply": "2020-08-28T16:55:48.559691Z"
    },
    "papermill": {
     "duration": 0.297138,
     "end_time": "2020-08-28T16:55:48.559817",
     "exception": false,
     "start_time": "2020-08-28T16:55:48.262679",
     "status": "completed"
    },
    "tags": []
   },
   "outputs": [
    {
     "data": {
      "text/plain": [
       "<matplotlib.legend.Legend at 0x7f89d8021bd0>"
      ]
     },
     "execution_count": 16,
     "metadata": {},
     "output_type": "execute_result"
    },
    {
     "data": {
      "image/png": "[encoded data removed]",
      "text/plain": [
       "<Figure size 432x288 with 1 Axes>"
      ]
     },
     "metadata": {
      "needs_background": "light"
     },
     "output_type": "display_data"
    }
   ],
   "source": [
    "# Plot accuracy per iteration\n",
    "plt.plot(trainer.history['accuracy'], label='acc')\n",
    "plt.plot(trainer.history['val_accuracy'], label='val_acc')\n",
    "plt.legend()"
   ]
  }
 ],
 "metadata": {
  "kernelspec": {
   "display_name": "Python 3",
   "language": "python",
   "name": "python3"
  },
  "language_info": {
   "codemirror_mode": {
    "name": "ipython",
    "version": 3
   },
   "file_extension": ".py",
   "mimetype": "text/x-python",
   "name": "python",
   "nbconvert_exporter": "python",
   "pygments_lexer": "ipython3",
   "version": "3.7.6"
  },
  "papermill": {
   "duration": 134.91528,
   "end_time": "2020-08-28T16:55:50.435131",
   "environment_variables": {},
   "exception": null,
   "input_path": "__notebook__.ipynb",
   "output_path": "__notebook__.ipynb",
   "parameters": {},
   "start_time": "2020-08-28T16:53:35.519851",
   "version": "2.1.0"
  }
 },
 "nbformat": 4,
 "nbformat_minor": 4
}
