{
 "cells": [
  {
   "cell_type": "code",
   "execution_count": 1,
   "metadata": {
    "execution": {
     "iopub.execute_input": "2020-09-08T14:51:24.511356Z",
     "iopub.status.busy": "2020-09-08T14:51:24.510580Z",
     "iopub.status.idle": "2020-09-08T14:51:30.724825Z",
     "shell.execute_reply": "2020-09-08T14:51:30.724181Z"
    },
    "id": "ECGUV6cpWbcy",
    "papermill": {
     "duration": 6.225981,
     "end_time": "2020-09-08T14:51:30.724947",
     "exception": false,
     "start_time": "2020-09-08T14:51:24.498966",
     "status": "completed"
    },
    "tags": []
   },
   "outputs": [],
   "source": [
    "import tensorflow as tf\n",
    "import numpy as np\n",
    "import matplotlib.pyplot as plt"
   ]
  },
  {
   "cell_type": "code",
   "execution_count": 2,
   "metadata": {
    "execution": {
     "iopub.execute_input": "2020-09-08T14:51:30.744122Z",
     "iopub.status.busy": "2020-09-08T14:51:30.743061Z",
     "iopub.status.idle": "2020-09-08T14:51:30.747003Z",
     "shell.execute_reply": "2020-09-08T14:51:30.747791Z"
    },
    "papermill": {
     "duration": 0.01566,
     "end_time": "2020-09-08T14:51:30.747951",
     "exception": false,
     "start_time": "2020-09-08T14:51:30.732291",
     "status": "completed"
    },
    "tags": []
   },
   "outputs": [
    {
     "name": "stdout",
     "output_type": "stream",
     "text": [
      "2.3.0\n"
     ]
    }
   ],
   "source": [
    "print(tf.__version__)"
   ]
  },
  {
   "cell_type": "code",
   "execution_count": 3,
   "metadata": {
    "execution": {
     "iopub.execute_input": "2020-09-08T14:51:30.768963Z",
     "iopub.status.busy": "2020-09-08T14:51:30.767242Z",
     "iopub.status.idle": "2020-09-08T14:51:30.770234Z",
     "shell.execute_reply": "2020-09-08T14:51:30.770729Z"
    },
    "papermill": {
     "duration": 0.014708,
     "end_time": "2020-09-08T14:51:30.770838",
     "exception": false,
     "start_time": "2020-09-08T14:51:30.756130",
     "status": "completed"
    },
    "tags": []
   },
   "outputs": [],
   "source": [
    "tf.random.set_seed(99)"
   ]
  },
  {
   "cell_type": "markdown",
   "execution_count": null,
   "metadata": {
    "id": "3cSgIGYHWyT7",
    "papermill": {
     "duration": 0.008326,
     "end_time": "2020-09-08T14:51:30.786585",
     "exception": false,
     "start_time": "2020-09-08T14:51:30.778259",
     "status": "completed"
    },
    "tags": []
   },
   "source": [
    "## This Fashion MNIST dataset included in Tensorflow Library"
   ]
  },
  {
   "cell_type": "code",
   "execution_count": 4,
   "metadata": {
    "execution": {
     "iopub.execute_input": "2020-09-08T14:51:30.806786Z",
     "iopub.status.busy": "2020-09-08T14:51:30.804860Z",
     "iopub.status.idle": "2020-09-08T14:51:30.807591Z",
     "shell.execute_reply": "2020-09-08T14:51:30.808265Z"
    },
    "id": "mlEZ-ZoOWx4G",
    "papermill": {
     "duration": 0.014671,
     "end_time": "2020-09-08T14:51:30.808392",
     "exception": false,
     "start_time": "2020-09-08T14:51:30.793721",
     "status": "completed"
    },
    "tags": []
   },
   "outputs": [],
   "source": [
    "fas_mnist=tf.keras.datasets.fashion_mnist"
   ]
  },
  {
   "cell_type": "code",
   "execution_count": 5,
   "metadata": {
    "execution": {
     "iopub.execute_input": "2020-09-08T14:51:30.828152Z",
     "iopub.status.busy": "2020-09-08T14:51:30.827132Z",
     "iopub.status.idle": "2020-09-08T14:51:31.750841Z",
     "shell.execute_reply": "2020-09-08T14:51:31.749970Z"
    },
    "id": "4b75oGlNXmrG",
    "papermill": {
     "duration": 0.935352,
     "end_time": "2020-09-08T14:51:31.750973",
     "exception": false,
     "start_time": "2020-09-08T14:51:30.815621",
     "status": "completed"
    },
    "tags": []
   },
   "outputs": [
    {
     "name": "stdout",
     "output_type": "stream",
     "text": [
      "Downloading data from https://storage.googleapis.com/tensorflow/tf-keras-datasets/train-labels-idx1-ubyte.gz\n",
      "32768/29515 [=================================] - 0s 0us/step\n",
      "Downloading data from https://storage.googleapis.com/tensorflow/tf-keras-datasets/train-images-idx3-ubyte.gz\n",
      "26427392/26421880 [==============================] - 0s 0us/step\n",
      "Downloading data from https://storage.googleapis.com/tensorflow/tf-keras-datasets/t10k-labels-idx1-ubyte.gz\n",
      "8192/5148 [===============================================] - 0s 0us/step\n",
      "Downloading data from https://storage.googleapis.com/tensorflow/tf-keras-datasets/t10k-images-idx3-ubyte.gz\n",
      "4423680/4422102 [==============================] - 0s 0us/step\n"
     ]
    }
   ],
   "source": [
    "(train_images,train_labels),(test_images,test_labels)=fas_mnist.load_data()"
   ]
  },
  {
   "cell_type": "code",
   "execution_count": 6,
   "metadata": {
    "execution": {
     "iopub.execute_input": "2020-09-08T14:51:31.776146Z",
     "iopub.status.busy": "2020-09-08T14:51:31.774853Z",
     "iopub.status.idle": "2020-09-08T14:51:31.918107Z",
     "shell.execute_reply": "2020-09-08T14:51:31.917424Z"
    },
    "id": "84C6YNJhqJ1W",
    "papermill": {
     "duration": 0.157879,
     "end_time": "2020-09-08T14:51:31.918231",
     "exception": false,
     "start_time": "2020-09-08T14:51:31.760352",
     "status": "completed"
    },
    "tags": []
   },
   "outputs": [],
   "source": [
    "train_images=train_images.reshape(60000, 28, 28)\n",
    "train_images=train_images / 255.0 #Standardising\n",
    "test_images = test_images.reshape(10000, 28, 28)\n",
    "test_images=test_images/255.0 #Standardising"
   ]
  },
  {
   "cell_type": "code",
   "execution_count": 7,
   "metadata": {
    "execution": {
     "iopub.execute_input": "2020-09-08T14:51:31.940908Z",
     "iopub.status.busy": "2020-09-08T14:51:31.940149Z",
     "iopub.status.idle": "2020-09-08T14:51:31.945345Z",
     "shell.execute_reply": "2020-09-08T14:51:31.944859Z"
    },
    "id": "_woeO9RTYabj",
    "outputId": "193fdd9f-27e4-4b12-9b70-4c78a5a7a41e",
    "papermill": {
     "duration": 0.018806,
     "end_time": "2020-09-08T14:51:31.945436",
     "exception": false,
     "start_time": "2020-09-08T14:51:31.926630",
     "status": "completed"
    },
    "tags": []
   },
   "outputs": [
    {
     "data": {
      "text/plain": [
       "(60000, 28, 28)"
      ]
     },
     "execution_count": 7,
     "metadata": {},
     "output_type": "execute_result"
    }
   ],
   "source": [
    "train_images.shape"
   ]
  },
  {
   "cell_type": "code",
   "execution_count": 8,
   "metadata": {
    "execution": {
     "iopub.execute_input": "2020-09-08T14:51:31.967184Z",
     "iopub.status.busy": "2020-09-08T14:51:31.966450Z",
     "iopub.status.idle": "2020-09-08T14:51:31.970111Z",
     "shell.execute_reply": "2020-09-08T14:51:31.970591Z"
    },
    "id": "OJJNYzAGb7ie",
    "outputId": "d95630d3-c68f-4240-c735-f07219b25796",
    "papermill": {
     "duration": 0.017372,
     "end_time": "2020-09-08T14:51:31.970701",
     "exception": false,
     "start_time": "2020-09-08T14:51:31.953329",
     "status": "completed"
    },
    "tags": []
   },
   "outputs": [
    {
     "data": {
      "text/plain": [
       "(10000, 28, 28)"
      ]
     },
     "execution_count": 8,
     "metadata": {},
     "output_type": "execute_result"
    }
   ],
   "source": [
    "test_images.shape"
   ]
  },
  {
   "cell_type": "code",
   "execution_count": 9,
   "metadata": {
    "execution": {
     "iopub.execute_input": "2020-09-08T14:51:31.993826Z",
     "iopub.status.busy": "2020-09-08T14:51:31.993169Z",
     "iopub.status.idle": "2020-09-08T14:51:35.519817Z",
     "shell.execute_reply": "2020-09-08T14:51:35.519170Z"
    },
    "id": "qDBZD6WtaJBg",
    "papermill": {
     "duration": 3.540865,
     "end_time": "2020-09-08T14:51:35.519941",
     "exception": false,
     "start_time": "2020-09-08T14:51:31.979076",
     "status": "completed"
    },
    "tags": []
   },
   "outputs": [],
   "source": [
    "# The concept is simple, we take each HxW matrix of images --> Flatten it like sequence of Multi-dimensional time-series and feed to LSTM\n",
    "# HxW changes to TxD \n",
    "# In images H--> height, W--> width, similiarly T-->Timestamp(equals H), D-->Feature(equals W)\n",
    "model = tf.keras.Sequential([\n",
    "  tf.keras.Input(shape=(28,28)),\n",
    "  tf.keras.layers.GRU(128),\n",
    "  tf.keras.layers.Dense(128, activation='relu',input_shape=(28, 28, )),\n",
    "  tf.keras.layers.Dropout(0.2,input_shape=(128,)),\n",
    "  tf.keras.layers.Dense(10, activation='softmax')\n",
    "])\n",
    "\n"
   ]
  },
  {
   "cell_type": "code",
   "execution_count": 10,
   "metadata": {
    "execution": {
     "iopub.execute_input": "2020-09-08T14:51:35.545404Z",
     "iopub.status.busy": "2020-09-08T14:51:35.540739Z",
     "iopub.status.idle": "2020-09-08T14:51:35.551073Z",
     "shell.execute_reply": "2020-09-08T14:51:35.550258Z"
    },
    "id": "Sq48IrtVbIJ7",
    "outputId": "fc8b7265-bff5-4dde-a2cd-de05a4c53063",
    "papermill": {
     "duration": 0.022761,
     "end_time": "2020-09-08T14:51:35.551210",
     "exception": false,
     "start_time": "2020-09-08T14:51:35.528449",
     "status": "completed"
    },
    "tags": []
   },
   "outputs": [
    {
     "name": "stdout",
     "output_type": "stream",
     "text": [
      "Model: \"sequential\"\n",
      "_________________________________________________________________\n",
      "Layer (type)                 Output Shape              Param #   \n",
      "=================================================================\n",
      "gru (GRU)                    (None, 128)               60672     \n",
      "_________________________________________________________________\n",
      "dense (Dense)                (None, 128)               16512     \n",
      "_________________________________________________________________\n",
      "dropout (Dropout)            (None, 128)               0         \n",
      "_________________________________________________________________\n",
      "dense_1 (Dense)              (None, 10)                1290      \n",
      "=================================================================\n",
      "Total params: 78,474\n",
      "Trainable params: 78,474\n",
      "Non-trainable params: 0\n",
      "_________________________________________________________________\n"
     ]
    }
   ],
   "source": [
    "model.summary()"
   ]
  },
  {
   "cell_type": "code",
   "execution_count": 11,
   "metadata": {
    "execution": {
     "iopub.execute_input": "2020-09-08T14:51:35.580288Z",
     "iopub.status.busy": "2020-09-08T14:51:35.579412Z",
     "iopub.status.idle": "2020-09-08T14:51:35.586075Z",
     "shell.execute_reply": "2020-09-08T14:51:35.585606Z"
    },
    "id": "UytcBSRwbEZl",
    "papermill": {
     "duration": 0.025649,
     "end_time": "2020-09-08T14:51:35.586172",
     "exception": false,
     "start_time": "2020-09-08T14:51:35.560523",
     "status": "completed"
    },
    "tags": []
   },
   "outputs": [],
   "source": [
    "model.compile(optimizer='adam', loss='sparse_categorical_crossentropy', metrics=['accuracy'])"
   ]
  },
  {
   "cell_type": "code",
   "execution_count": 12,
   "metadata": {
    "execution": {
     "iopub.execute_input": "2020-09-08T14:51:35.608362Z",
     "iopub.status.busy": "2020-09-08T14:51:35.607734Z",
     "iopub.status.idle": "2020-09-08T14:51:35.611971Z",
     "shell.execute_reply": "2020-09-08T14:51:35.611506Z"
    },
    "papermill": {
     "duration": 0.017216,
     "end_time": "2020-09-08T14:51:35.612063",
     "exception": false,
     "start_time": "2020-09-08T14:51:35.594847",
     "status": "completed"
    },
    "tags": []
   },
   "outputs": [],
   "source": [
    "def scheduler(epoch, lr):\n",
    "      if epoch < 8:\n",
    "        return lr\n",
    "      else:\n",
    "        return lr * tf.math.exp(-0.1)"
   ]
  },
  {
   "cell_type": "code",
   "execution_count": 13,
   "metadata": {
    "execution": {
     "iopub.execute_input": "2020-09-08T14:51:35.635173Z",
     "iopub.status.busy": "2020-09-08T14:51:35.633577Z",
     "iopub.status.idle": "2020-09-08T14:51:35.636320Z",
     "shell.execute_reply": "2020-09-08T14:51:35.636853Z"
    },
    "papermill": {
     "duration": 0.016026,
     "end_time": "2020-09-08T14:51:35.636965",
     "exception": false,
     "start_time": "2020-09-08T14:51:35.620939",
     "status": "completed"
    },
    "tags": []
   },
   "outputs": [],
   "source": [
    "my_callbacks = [\n",
    "    tf.keras.callbacks.EarlyStopping(monitor=\"val_loss\",patience=2),\n",
    "    tf.keras.callbacks.LearningRateScheduler(scheduler)\n",
    "]"
   ]
  },
  {
   "cell_type": "code",
   "execution_count": 14,
   "metadata": {
    "execution": {
     "iopub.execute_input": "2020-09-08T14:51:35.658155Z",
     "iopub.status.busy": "2020-09-08T14:51:35.657516Z",
     "iopub.status.idle": "2020-09-08T14:53:03.193108Z",
     "shell.execute_reply": "2020-09-08T14:53:03.193664Z"
    },
    "id": "Hjw6yBa6bfc6",
    "outputId": "8b256ba2-d813-4712-91b2-7573d989b666",
    "papermill": {
     "duration": 87.548542,
     "end_time": "2020-09-08T14:53:03.193822",
     "exception": false,
     "start_time": "2020-09-08T14:51:35.645280",
     "status": "completed"
    },
    "tags": []
   },
   "outputs": [
    {
     "name": "stdout",
     "output_type": "stream",
     "text": [
      "Epoch 1/20\n",
      "1875/1875 [==============================] - 7s 4ms/step - loss: 0.6287 - accuracy: 0.7664 - val_loss: 0.4637 - val_accuracy: 0.8289\n",
      "Epoch 2/20\n",
      "1875/1875 [==============================] - 7s 4ms/step - loss: 0.4034 - accuracy: 0.8507 - val_loss: 0.3745 - val_accuracy: 0.8570\n",
      "Epoch 3/20\n",
      "1875/1875 [==============================] - 7s 4ms/step - loss: 0.3508 - accuracy: 0.8701 - val_loss: 0.3473 - val_accuracy: 0.8688\n",
      "Epoch 4/20\n",
      "1875/1875 [==============================] - 7s 4ms/step - loss: 0.3180 - accuracy: 0.8823 - val_loss: 0.3298 - val_accuracy: 0.8760\n",
      "Epoch 5/20\n",
      "1875/1875 [==============================] - 7s 4ms/step - loss: 0.2948 - accuracy: 0.8910 - val_loss: 0.3179 - val_accuracy: 0.8833\n",
      "Epoch 6/20\n",
      "1875/1875 [==============================] - 7s 4ms/step - loss: 0.2784 - accuracy: 0.8957 - val_loss: 0.2982 - val_accuracy: 0.8909\n",
      "Epoch 7/20\n",
      "1875/1875 [==============================] - 7s 4ms/step - loss: 0.2616 - accuracy: 0.9020 - val_loss: 0.2952 - val_accuracy: 0.8907\n",
      "Epoch 8/20\n",
      "1875/1875 [==============================] - 7s 4ms/step - loss: 0.2475 - accuracy: 0.9078 - val_loss: 0.2916 - val_accuracy: 0.8924\n",
      "Epoch 9/20\n",
      "1875/1875 [==============================] - 7s 4ms/step - loss: 0.2321 - accuracy: 0.9136 - val_loss: 0.2946 - val_accuracy: 0.8932\n",
      "Epoch 10/20\n",
      "1875/1875 [==============================] - 7s 4ms/step - loss: 0.2164 - accuracy: 0.9181 - val_loss: 0.2824 - val_accuracy: 0.8983\n",
      "Epoch 11/20\n",
      "1875/1875 [==============================] - 7s 4ms/step - loss: 0.2031 - accuracy: 0.9233 - val_loss: 0.2868 - val_accuracy: 0.9010\n",
      "Epoch 12/20\n",
      "1875/1875 [==============================] - 7s 4ms/step - loss: 0.1896 - accuracy: 0.9275 - val_loss: 0.2935 - val_accuracy: 0.8979\n"
     ]
    }
   ],
   "source": [
    "trainer=model.fit(train_images, train_labels,validation_data=(test_images,test_labels), epochs=20,callbacks=my_callbacks)"
   ]
  },
  {
   "cell_type": "code",
   "execution_count": 15,
   "metadata": {
    "execution": {
     "iopub.execute_input": "2020-09-08T14:53:03.375248Z",
     "iopub.status.busy": "2020-09-08T14:53:03.374576Z",
     "iopub.status.idle": "2020-09-08T14:53:03.580722Z",
     "shell.execute_reply": "2020-09-08T14:53:03.581372Z"
    },
    "papermill": {
     "duration": 0.300258,
     "end_time": "2020-09-08T14:53:03.581545",
     "exception": false,
     "start_time": "2020-09-08T14:53:03.281287",
     "status": "completed"
    },
    "tags": []
   },
   "outputs": [
    {
     "data": {
      "text/plain": [
       "<matplotlib.legend.Legend at 0x7fa0ac06c490>"
      ]
     },
     "execution_count": 15,
     "metadata": {},
     "output_type": "execute_result"
    },
    {
     "data": {
      "image/png": "[encoded data removed]",
      "text/plain": [
       "<Figure size 432x288 with 1 Axes>"
      ]
     },
     "metadata": {
      "needs_background": "light"
     },
     "output_type": "display_data"
    }
   ],
   "source": [
    "# Plot loss per iteration\n",
    "plt.plot(trainer.history['loss'], label='loss')\n",
    "plt.plot(trainer.history['val_loss'], label='val_loss')\n",
    "plt.legend()"
   ]
  },
  {
   "cell_type": "code",
   "execution_count": 16,
   "metadata": {
    "execution": {
     "iopub.execute_input": "2020-09-08T14:53:03.770712Z",
     "iopub.status.busy": "2020-09-08T14:53:03.765749Z",
     "iopub.status.idle": "2020-09-08T14:53:03.924175Z",
     "shell.execute_reply": "2020-09-08T14:53:03.924718Z"
    },
    "papermill": {
     "duration": 0.254521,
     "end_time": "2020-09-08T14:53:03.924850",
     "exception": false,
     "start_time": "2020-09-08T14:53:03.670329",
     "status": "completed"
    },
    "tags": []
   },
   "outputs": [
    {
     "data": {
      "text/plain": [
       "<matplotlib.legend.Legend at 0x7fa0ac235850>"
      ]
     },
     "execution_count": 16,
     "metadata": {},
     "output_type": "execute_result"
    },
    {
     "data": {
      "image/png": "[encoded data removed]",
      "text/plain": [
       "<Figure size 432x288 with 1 Axes>"
      ]
     },
     "metadata": {
      "needs_background": "light"
     },
     "output_type": "display_data"
    }
   ],
   "source": [
    "# Plot accuracy per iteration\n",
    "plt.plot(trainer.history['accuracy'], label='acc')\n",
    "plt.plot(trainer.history['val_accuracy'], label='val_acc')\n",
    "plt.legend()"
   ]
  }
 ],
 "metadata": {
  "kernelspec": {
   "display_name": "Python 3",
   "language": "python",
   "name": "python3"
  },
  "language_info": {
   "codemirror_mode": {
    "name": "ipython",
    "version": 3
   },
   "file_extension": ".py",
   "mimetype": "text/x-python",
   "name": "python",
   "nbconvert_exporter": "python",
   "pygments_lexer": "ipython3",
   "version": "3.7.6"
  },
  "papermill": {
   "duration": 105.882806,
   "end_time": "2020-09-08T14:53:05.888837",
   "environment_variables": {},
   "exception": null,
   "input_path": "__notebook__.ipynb",
   "output_path": "__notebook__.ipynb",
   "parameters": {},
   "start_time": "2020-09-08T14:51:20.006031",
   "version": "2.1.0"
  }
 },
 "nbformat": 4,
 "nbformat_minor": 4
}
