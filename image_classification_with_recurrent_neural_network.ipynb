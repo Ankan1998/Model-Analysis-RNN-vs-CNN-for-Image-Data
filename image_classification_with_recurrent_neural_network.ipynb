{
  "nbformat": 4,
  "nbformat_minor": 0,
  "metadata": {
    "kernelspec": {
      "display_name": "Python 3",
      "language": "python",
      "name": "python3"
    },
    "language_info": {
      "codemirror_mode": {
        "name": "ipython",
        "version": 3
      },
      "file_extension": ".py",
      "mimetype": "text/x-python",
      "name": "python",
      "nbconvert_exporter": "python",
      "pygments_lexer": "ipython3",
      "version": "3.7.6"
    },
    "papermill": {
      "duration": 105.882806,
      "end_time": "2020-09-08T14:53:05.888837",
      "environment_variables": {},
      "exception": null,
      "input_path": "__notebook__.ipynb",
      "output_path": "__notebook__.ipynb",
      "parameters": {},
      "start_time": "2020-09-08T14:51:20.006031",
      "version": "2.1.0"
    },
    "colab": {
      "name": "image-classification-with-recurrent-neural-network.ipynb",
      "provenance": [],
      "include_colab_link": true
    },
    "accelerator": "GPU"
  },
  "cells": [
    {
      "cell_type": "markdown",
      "metadata": {
        "id": "view-in-github",
        "colab_type": "text"
      },
      "source": [
        "<a href=\"https://colab.research.google.com/github/Ankan1998/Model-Analysis-RNN-vs-CNN-for-Image-Data/blob/master/image_classification_with_recurrent_neural_network.ipynb\" target=\"_parent\"><img src=\"https://colab.research.google.com/assets/colab-badge.svg\" alt=\"Open In Colab\"/></a>"
      ]
    },
    {
      "cell_type": "code",
      "metadata": {
        "execution": {
          "iopub.execute_input": "2020-09-08T14:51:24.511356Z",
          "iopub.status.busy": "2020-09-08T14:51:24.510580Z",
          "iopub.status.idle": "2020-09-08T14:51:30.724825Z",
          "shell.execute_reply": "2020-09-08T14:51:30.724181Z"
        },
        "id": "ECGUV6cpWbcy",
        "papermill": {
          "duration": 6.225981,
          "end_time": "2020-09-08T14:51:30.724947",
          "exception": false,
          "start_time": "2020-09-08T14:51:24.498966",
          "status": "completed"
        },
        "tags": []
      },
      "source": [
        "import tensorflow as tf\n",
        "import numpy as np\n",
        "import matplotlib.pyplot as plt"
      ],
      "execution_count": 1,
      "outputs": []
    },
    {
      "cell_type": "code",
      "metadata": {
        "execution": {
          "iopub.execute_input": "2020-09-08T14:51:30.768963Z",
          "iopub.status.busy": "2020-09-08T14:51:30.767242Z",
          "iopub.status.idle": "2020-09-08T14:51:30.770234Z",
          "shell.execute_reply": "2020-09-08T14:51:30.770729Z"
        },
        "papermill": {
          "duration": 0.014708,
          "end_time": "2020-09-08T14:51:30.770838",
          "exception": false,
          "start_time": "2020-09-08T14:51:30.756130",
          "status": "completed"
        },
        "tags": [],
        "id": "YUoqu2Oee5Tt"
      },
      "source": [
        "tf.random.set_seed(99)"
      ],
      "execution_count": 2,
      "outputs": []
    },
    {
      "cell_type": "markdown",
      "metadata": {
        "id": "3cSgIGYHWyT7",
        "papermill": {
          "duration": 0.008326,
          "end_time": "2020-09-08T14:51:30.786585",
          "exception": false,
          "start_time": "2020-09-08T14:51:30.778259",
          "status": "completed"
        },
        "tags": []
      },
      "source": [
        "## This Fashion MNIST dataset included in Tensorflow Library"
      ]
    },
    {
      "cell_type": "code",
      "metadata": {
        "execution": {
          "iopub.execute_input": "2020-09-08T14:51:30.806786Z",
          "iopub.status.busy": "2020-09-08T14:51:30.804860Z",
          "iopub.status.idle": "2020-09-08T14:51:30.807591Z",
          "shell.execute_reply": "2020-09-08T14:51:30.808265Z"
        },
        "id": "mlEZ-ZoOWx4G",
        "papermill": {
          "duration": 0.014671,
          "end_time": "2020-09-08T14:51:30.808392",
          "exception": false,
          "start_time": "2020-09-08T14:51:30.793721",
          "status": "completed"
        },
        "tags": []
      },
      "source": [
        "fas_mnist=tf.keras.datasets.fashion_mnist"
      ],
      "execution_count": 3,
      "outputs": []
    },
    {
      "cell_type": "code",
      "metadata": {
        "execution": {
          "iopub.execute_input": "2020-09-08T14:51:30.828152Z",
          "iopub.status.busy": "2020-09-08T14:51:30.827132Z",
          "iopub.status.idle": "2020-09-08T14:51:31.750841Z",
          "shell.execute_reply": "2020-09-08T14:51:31.749970Z"
        },
        "id": "4b75oGlNXmrG",
        "papermill": {
          "duration": 0.935352,
          "end_time": "2020-09-08T14:51:31.750973",
          "exception": false,
          "start_time": "2020-09-08T14:51:30.815621",
          "status": "completed"
        },
        "tags": [],
        "colab": {
          "base_uri": "https://localhost:8080/"
        },
        "outputId": "cfe6a6b0-02e3-4654-fae2-d9377bd4095f"
      },
      "source": [
        "(train_images,train_labels),(test_images,test_labels)=fas_mnist.load_data()"
      ],
      "execution_count": 4,
      "outputs": [
        {
          "output_type": "stream",
          "text": [
            "Downloading data from https://storage.googleapis.com/tensorflow/tf-keras-datasets/train-labels-idx1-ubyte.gz\n",
            "32768/29515 [=================================] - 0s 0us/step\n",
            "Downloading data from https://storage.googleapis.com/tensorflow/tf-keras-datasets/train-images-idx3-ubyte.gz\n",
            "26427392/26421880 [==============================] - 0s 0us/step\n",
            "Downloading data from https://storage.googleapis.com/tensorflow/tf-keras-datasets/t10k-labels-idx1-ubyte.gz\n",
            "8192/5148 [===============================================] - 0s 0us/step\n",
            "Downloading data from https://storage.googleapis.com/tensorflow/tf-keras-datasets/t10k-images-idx3-ubyte.gz\n",
            "4423680/4422102 [==============================] - 0s 0us/step\n"
          ],
          "name": "stdout"
        }
      ]
    },
    {
      "cell_type": "code",
      "metadata": {
        "execution": {
          "iopub.execute_input": "2020-09-08T14:51:31.776146Z",
          "iopub.status.busy": "2020-09-08T14:51:31.774853Z",
          "iopub.status.idle": "2020-09-08T14:51:31.918107Z",
          "shell.execute_reply": "2020-09-08T14:51:31.917424Z"
        },
        "id": "84C6YNJhqJ1W",
        "papermill": {
          "duration": 0.157879,
          "end_time": "2020-09-08T14:51:31.918231",
          "exception": false,
          "start_time": "2020-09-08T14:51:31.760352",
          "status": "completed"
        },
        "tags": []
      },
      "source": [
        "train_images=train_images.reshape(60000, 28, 28)\n",
        "train_images=train_images / 255.0 #Standardising\n",
        "test_images = test_images.reshape(10000, 28, 28)\n",
        "test_images=test_images/255.0 #Standardising"
      ],
      "execution_count": 5,
      "outputs": []
    },
    {
      "cell_type": "code",
      "metadata": {
        "execution": {
          "iopub.execute_input": "2020-09-08T14:51:31.940908Z",
          "iopub.status.busy": "2020-09-08T14:51:31.940149Z",
          "iopub.status.idle": "2020-09-08T14:51:31.945345Z",
          "shell.execute_reply": "2020-09-08T14:51:31.944859Z"
        },
        "id": "_woeO9RTYabj",
        "papermill": {
          "duration": 0.018806,
          "end_time": "2020-09-08T14:51:31.945436",
          "exception": false,
          "start_time": "2020-09-08T14:51:31.926630",
          "status": "completed"
        },
        "tags": [],
        "colab": {
          "base_uri": "https://localhost:8080/"
        },
        "outputId": "cfa54b6f-20d5-4ed6-c02e-102fbbdaf458"
      },
      "source": [
        "train_images.shape"
      ],
      "execution_count": 6,
      "outputs": [
        {
          "output_type": "execute_result",
          "data": {
            "text/plain": [
              "(60000, 28, 28)"
            ]
          },
          "metadata": {
            "tags": []
          },
          "execution_count": 6
        }
      ]
    },
    {
      "cell_type": "code",
      "metadata": {
        "execution": {
          "iopub.execute_input": "2020-09-08T14:51:31.967184Z",
          "iopub.status.busy": "2020-09-08T14:51:31.966450Z",
          "iopub.status.idle": "2020-09-08T14:51:31.970111Z",
          "shell.execute_reply": "2020-09-08T14:51:31.970591Z"
        },
        "id": "OJJNYzAGb7ie",
        "papermill": {
          "duration": 0.017372,
          "end_time": "2020-09-08T14:51:31.970701",
          "exception": false,
          "start_time": "2020-09-08T14:51:31.953329",
          "status": "completed"
        },
        "tags": [],
        "colab": {
          "base_uri": "https://localhost:8080/"
        },
        "outputId": "777031d3-9f7a-43a4-9d3e-d6ac21fe466c"
      },
      "source": [
        "test_images.shape"
      ],
      "execution_count": 7,
      "outputs": [
        {
          "output_type": "execute_result",
          "data": {
            "text/plain": [
              "(10000, 28, 28)"
            ]
          },
          "metadata": {
            "tags": []
          },
          "execution_count": 7
        }
      ]
    },
    {
      "cell_type": "code",
      "metadata": {
        "execution": {
          "iopub.execute_input": "2020-09-08T14:51:31.993826Z",
          "iopub.status.busy": "2020-09-08T14:51:31.993169Z",
          "iopub.status.idle": "2020-09-08T14:51:35.519817Z",
          "shell.execute_reply": "2020-09-08T14:51:35.519170Z"
        },
        "id": "qDBZD6WtaJBg",
        "papermill": {
          "duration": 3.540865,
          "end_time": "2020-09-08T14:51:35.519941",
          "exception": false,
          "start_time": "2020-09-08T14:51:31.979076",
          "status": "completed"
        },
        "tags": []
      },
      "source": [
        "# The concept is simple, we take each HxW matrix of images --> Flatten it like sequence of Multi-dimensional time-series and feed to LSTM\n",
        "# HxW changes to TxD \n",
        "# In images H--> height, W--> width, similiarly T-->Timestamp(equals H), D-->Feature(equals W)\n",
        "model = tf.keras.Sequential([\n",
        "  tf.keras.Input(shape=(28,28)),\n",
        "  tf.keras.layers.GRU(128),\n",
        "  tf.keras.layers.Dense(128, activation='relu',input_shape=(28, 28, )),\n",
        "  tf.keras.layers.Dropout(0.2,input_shape=(128,)),\n",
        "  tf.keras.layers.Dense(10, activation='softmax')\n",
        "])\n",
        "\n"
      ],
      "execution_count": 8,
      "outputs": []
    },
    {
      "cell_type": "code",
      "metadata": {
        "execution": {
          "iopub.execute_input": "2020-09-08T14:51:35.545404Z",
          "iopub.status.busy": "2020-09-08T14:51:35.540739Z",
          "iopub.status.idle": "2020-09-08T14:51:35.551073Z",
          "shell.execute_reply": "2020-09-08T14:51:35.550258Z"
        },
        "id": "Sq48IrtVbIJ7",
        "papermill": {
          "duration": 0.022761,
          "end_time": "2020-09-08T14:51:35.551210",
          "exception": false,
          "start_time": "2020-09-08T14:51:35.528449",
          "status": "completed"
        },
        "tags": [],
        "colab": {
          "base_uri": "https://localhost:8080/"
        },
        "outputId": "f2984ee2-9bac-4102-dadc-78c6d0af8648"
      },
      "source": [
        "model.summary()"
      ],
      "execution_count": 9,
      "outputs": [
        {
          "output_type": "stream",
          "text": [
            "Model: \"sequential\"\n",
            "_________________________________________________________________\n",
            "Layer (type)                 Output Shape              Param #   \n",
            "=================================================================\n",
            "gru (GRU)                    (None, 128)               60672     \n",
            "_________________________________________________________________\n",
            "dense (Dense)                (None, 128)               16512     \n",
            "_________________________________________________________________\n",
            "dropout (Dropout)            (None, 128)               0         \n",
            "_________________________________________________________________\n",
            "dense_1 (Dense)              (None, 10)                1290      \n",
            "=================================================================\n",
            "Total params: 78,474\n",
            "Trainable params: 78,474\n",
            "Non-trainable params: 0\n",
            "_________________________________________________________________\n"
          ],
          "name": "stdout"
        }
      ]
    },
    {
      "cell_type": "code",
      "metadata": {
        "execution": {
          "iopub.execute_input": "2020-09-08T14:51:35.580288Z",
          "iopub.status.busy": "2020-09-08T14:51:35.579412Z",
          "iopub.status.idle": "2020-09-08T14:51:35.586075Z",
          "shell.execute_reply": "2020-09-08T14:51:35.585606Z"
        },
        "id": "UytcBSRwbEZl",
        "papermill": {
          "duration": 0.025649,
          "end_time": "2020-09-08T14:51:35.586172",
          "exception": false,
          "start_time": "2020-09-08T14:51:35.560523",
          "status": "completed"
        },
        "tags": []
      },
      "source": [
        "model.compile(optimizer='adam', loss='sparse_categorical_crossentropy', metrics=['accuracy'])"
      ],
      "execution_count": 10,
      "outputs": []
    },
    {
      "cell_type": "code",
      "metadata": {
        "execution": {
          "iopub.execute_input": "2020-09-08T14:51:35.608362Z",
          "iopub.status.busy": "2020-09-08T14:51:35.607734Z",
          "iopub.status.idle": "2020-09-08T14:51:35.611971Z",
          "shell.execute_reply": "2020-09-08T14:51:35.611506Z"
        },
        "papermill": {
          "duration": 0.017216,
          "end_time": "2020-09-08T14:51:35.612063",
          "exception": false,
          "start_time": "2020-09-08T14:51:35.594847",
          "status": "completed"
        },
        "tags": [],
        "id": "VgnpmAu9e5Tu"
      },
      "source": [
        "def scheduler(epoch, lr):\n",
        "      if epoch < 8:\n",
        "        return lr\n",
        "      else:\n",
        "        return lr * tf.math.exp(-0.1)"
      ],
      "execution_count": 11,
      "outputs": []
    },
    {
      "cell_type": "code",
      "metadata": {
        "execution": {
          "iopub.execute_input": "2020-09-08T14:51:35.635173Z",
          "iopub.status.busy": "2020-09-08T14:51:35.633577Z",
          "iopub.status.idle": "2020-09-08T14:51:35.636320Z",
          "shell.execute_reply": "2020-09-08T14:51:35.636853Z"
        },
        "papermill": {
          "duration": 0.016026,
          "end_time": "2020-09-08T14:51:35.636965",
          "exception": false,
          "start_time": "2020-09-08T14:51:35.620939",
          "status": "completed"
        },
        "tags": [],
        "id": "OHerkqrwe5Tu"
      },
      "source": [
        "my_callbacks = [\n",
        "    tf.keras.callbacks.EarlyStopping(monitor=\"val_loss\",patience=2),\n",
        "    tf.keras.callbacks.LearningRateScheduler(scheduler)\n",
        "]"
      ],
      "execution_count": 12,
      "outputs": []
    },
    {
      "cell_type": "code",
      "metadata": {
        "execution": {
          "iopub.execute_input": "2020-09-08T14:51:35.658155Z",
          "iopub.status.busy": "2020-09-08T14:51:35.657516Z",
          "iopub.status.idle": "2020-09-08T14:53:03.193108Z",
          "shell.execute_reply": "2020-09-08T14:53:03.193664Z"
        },
        "id": "Hjw6yBa6bfc6",
        "papermill": {
          "duration": 87.548542,
          "end_time": "2020-09-08T14:53:03.193822",
          "exception": false,
          "start_time": "2020-09-08T14:51:35.645280",
          "status": "completed"
        },
        "tags": [],
        "colab": {
          "base_uri": "https://localhost:8080/"
        },
        "outputId": "11f7aa3f-9a83-413f-a2f8-8acfefb2d694"
      },
      "source": [
        "trainer=model.fit(train_images, train_labels,validation_data=(test_images,test_labels), epochs=20,callbacks=my_callbacks)"
      ],
      "execution_count": 13,
      "outputs": [
        {
          "output_type": "stream",
          "text": [
            "Epoch 1/20\n",
            "1875/1875 [==============================] - 8s 4ms/step - loss: 0.6287 - accuracy: 0.7664 - val_loss: 0.4637 - val_accuracy: 0.8289\n",
            "Epoch 2/20\n",
            "1875/1875 [==============================] - 7s 4ms/step - loss: 0.4034 - accuracy: 0.8507 - val_loss: 0.3745 - val_accuracy: 0.8570\n",
            "Epoch 3/20\n",
            "1875/1875 [==============================] - 7s 4ms/step - loss: 0.3508 - accuracy: 0.8701 - val_loss: 0.3473 - val_accuracy: 0.8688\n",
            "Epoch 4/20\n",
            "1875/1875 [==============================] - 7s 4ms/step - loss: 0.3180 - accuracy: 0.8823 - val_loss: 0.3298 - val_accuracy: 0.8760\n",
            "Epoch 5/20\n",
            "1875/1875 [==============================] - 7s 4ms/step - loss: 0.2947 - accuracy: 0.8906 - val_loss: 0.3174 - val_accuracy: 0.8846\n",
            "Epoch 6/20\n",
            "1875/1875 [==============================] - 7s 4ms/step - loss: 0.2776 - accuracy: 0.8967 - val_loss: 0.2981 - val_accuracy: 0.8906\n",
            "Epoch 7/20\n",
            "1875/1875 [==============================] - 7s 4ms/step - loss: 0.2612 - accuracy: 0.9023 - val_loss: 0.2936 - val_accuracy: 0.8924\n",
            "Epoch 8/20\n",
            "1875/1875 [==============================] - 7s 4ms/step - loss: 0.2469 - accuracy: 0.9074 - val_loss: 0.2950 - val_accuracy: 0.8900\n",
            "Epoch 9/20\n",
            "1875/1875 [==============================] - 7s 4ms/step - loss: 0.2314 - accuracy: 0.9132 - val_loss: 0.2916 - val_accuracy: 0.8938\n",
            "Epoch 10/20\n",
            "1875/1875 [==============================] - 7s 4ms/step - loss: 0.2156 - accuracy: 0.9188 - val_loss: 0.2815 - val_accuracy: 0.8981\n",
            "Epoch 11/20\n",
            "1875/1875 [==============================] - 7s 4ms/step - loss: 0.2035 - accuracy: 0.9233 - val_loss: 0.2777 - val_accuracy: 0.9020\n",
            "Epoch 12/20\n",
            "1875/1875 [==============================] - 7s 4ms/step - loss: 0.1889 - accuracy: 0.9273 - val_loss: 0.2876 - val_accuracy: 0.8977\n",
            "Epoch 13/20\n",
            "1875/1875 [==============================] - 7s 4ms/step - loss: 0.1785 - accuracy: 0.9325 - val_loss: 0.2803 - val_accuracy: 0.9039\n"
          ],
          "name": "stdout"
        }
      ]
    },
    {
      "cell_type": "code",
      "metadata": {
        "execution": {
          "iopub.execute_input": "2020-09-08T14:53:03.375248Z",
          "iopub.status.busy": "2020-09-08T14:53:03.374576Z",
          "iopub.status.idle": "2020-09-08T14:53:03.580722Z",
          "shell.execute_reply": "2020-09-08T14:53:03.581372Z"
        },
        "papermill": {
          "duration": 0.300258,
          "end_time": "2020-09-08T14:53:03.581545",
          "exception": false,
          "start_time": "2020-09-08T14:53:03.281287",
          "status": "completed"
        },
        "tags": [],
        "colab": {
          "base_uri": "https://localhost:8080/",
          "height": 282
        },
        "id": "eNSyvqs9e5Tv",
        "outputId": "439f4634-a7ca-4f93-bd51-3cf57b582489"
      },
      "source": [
        "# Plot loss per iteration\n",
        "plt.plot(trainer.history['loss'], label='loss')\n",
        "plt.plot(trainer.history['val_loss'], label='val_loss')\n",
        "plt.legend()"
      ],
      "execution_count": 14,
      "outputs": [
        {
          "output_type": "execute_result",
          "data": {
            "text/plain": [
              "<matplotlib.legend.Legend at 0x7f1ec56ce780>"
            ]
          },
          "metadata": {
            "tags": []
          },
          "execution_count": 14
        },
        {
          "output_type": "display_data",
          "data": {
            "image/png": "[encoded data removed]",
            "text/plain": [
              "<Figure size 432x288 with 1 Axes>"
            ]
          },
          "metadata": {
            "tags": [],
            "needs_background": "light"
          }
        }
      ]
    },
    {
      "cell_type": "code",
      "metadata": {
        "execution": {
          "iopub.execute_input": "2020-09-08T14:53:03.770712Z",
          "iopub.status.busy": "2020-09-08T14:53:03.765749Z",
          "iopub.status.idle": "2020-09-08T14:53:03.924175Z",
          "shell.execute_reply": "2020-09-08T14:53:03.924718Z"
        },
        "papermill": {
          "duration": 0.254521,
          "end_time": "2020-09-08T14:53:03.924850",
          "exception": false,
          "start_time": "2020-09-08T14:53:03.670329",
          "status": "completed"
        },
        "tags": [],
        "colab": {
          "base_uri": "https://localhost:8080/",
          "height": 282
        },
        "id": "Z-nUfLNXe5Tv",
        "outputId": "1a80a6ee-54a7-42f7-9a76-adbc9579e03c"
      },
      "source": [
        "# Plot accuracy per iteration\n",
        "plt.plot(trainer.history['accuracy'], label='acc')\n",
        "plt.plot(trainer.history['val_accuracy'], label='val_acc')\n",
        "plt.legend()"
      ],
      "execution_count": 15,
      "outputs": [
        {
          "output_type": "execute_result",
          "data": {
            "text/plain": [
              "<matplotlib.legend.Legend at 0x7f1ec522d630>"
            ]
          },
          "metadata": {
            "tags": []
          },
          "execution_count": 15
        },
        {
          "output_type": "display_data",
          "data": {
            "image/png": "[encoded data removed]",
            "text/plain": [
              "<Figure size 432x288 with 1 Axes>"
            ]
          },
          "metadata": {
            "tags": [],
            "needs_background": "light"
          }
        }
      ]
    }
  ]
}